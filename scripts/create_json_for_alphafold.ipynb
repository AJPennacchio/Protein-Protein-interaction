{
 "cells": [
  {
   "cell_type": "code",
   "execution_count": 1,
   "id": "0df6fed3-5a86-4417-8871-cc7b351b1407",
   "metadata": {},
   "outputs": [
    {
     "name": "stdout",
     "output_type": "stream",
     "text": [
      "JSON data has been written to ~/PPI/alphafold/json/SP_alpha_tt_receptors_116:216.json\n"
     ]
    }
   ],
   "source": [
    "import pandas as pd\n",
    "import json\n",
    "\n",
    "df = pd.read_csv('../alphafold//to_json/SP_alpha_tt_receptors_116:216.csv')\n",
    "df.drop(columns=[\"Unnamed: 0\"], inplace=True)\n",
    "\n",
    "output_name = \"SP_alpha_tt_receptors_116:216\"\n",
    "\n",
    "# Function to parse a FASTA file and create a dictionary of sequences keyed by UniProt IDs\n",
    "def parse_fasta(fasta_file):\n",
    "    sequences = {}\n",
    "    with open(fasta_file, 'r') as file:\n",
    "        current_id = None\n",
    "        current_seq = []\n",
    "        for line in file:\n",
    "            line = line.strip()\n",
    "            if line.startswith(\">\"):\n",
    "                if current_id:\n",
    "                    sequences[current_id] = ''.join(current_seq)\n",
    "                current_id = line.split('|')[1] if '|' in line else line[1:]\n",
    "                current_seq = []\n",
    "            else:\n",
    "                current_seq.append(line)\n",
    "        if current_id:\n",
    "            sequences[current_id] = ''.join(current_seq)\n",
    "    return sequences\n",
    "\n",
    "# Path to the FASTA file\n",
    "fasta_file = \"../data/database.fasta\"\n",
    "\n",
    "# Parse the FASTA file\n",
    "sequences = parse_fasta(fasta_file)\n",
    "\n",
    "# Function to convert DataFrame to the specified JSON format\n",
    "def df_to_json(df, sequences):\n",
    "    json_list = []\n",
    "    for idx, row in df.iterrows():\n",
    "        job_entry = {\n",
    "            \"name\": f\"{row['prot1']} {row['prot2']}\",\n",
    "            \"modelSeeds\": [],\n",
    "            \"sequences\": [\n",
    "                {\n",
    "                    \"proteinChain\": {\n",
    "                        \"sequence\": sequences.get(row['prot1'], \"\"),\n",
    "                        \"count\": 1\n",
    "                    }\n",
    "                },\n",
    "                {\n",
    "                    \"proteinChain\": {\n",
    "                        \"sequence\": sequences.get(row['prot2'], \"\"),\n",
    "                        \"count\": 1\n",
    "                    }\n",
    "                }\n",
    "            ]\n",
    "        }\n",
    "        json_list.append(job_entry)\n",
    "    return json_list\n",
    "\n",
    "# Convert DataFrame to JSON format\n",
    "json_output = df_to_json(df, sequences)\n",
    "\n",
    "# Convert the list to a JSON string for output\n",
    "json_string = json.dumps(json_output, indent=2)\n",
    "\n",
    "with open(f'../alphafold/json/{output_name}.json', 'w') as json_file:\n",
    "    json_file.write(json_string)\n",
    "\n",
    "print(f\"JSON data has been written to ~/PPI/alphafold/json/{output_name}.json\")"
   ]
  }
 ],
 "metadata": {
  "kernelspec": {
   "display_name": "torch",
   "language": "python",
   "name": "torch"
  },
  "language_info": {
   "codemirror_mode": {
    "name": "ipython",
    "version": 3
   },
   "file_extension": ".py",
   "mimetype": "text/x-python",
   "name": "python",
   "nbconvert_exporter": "python",
   "pygments_lexer": "ipython3",
   "version": "3.12.3"
  }
 },
 "nbformat": 4,
 "nbformat_minor": 5
}
